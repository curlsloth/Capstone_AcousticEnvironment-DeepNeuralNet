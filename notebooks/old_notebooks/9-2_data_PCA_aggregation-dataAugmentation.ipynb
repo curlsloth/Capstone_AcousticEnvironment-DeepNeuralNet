{
 "cells": [
  {
   "cell_type": "code",
   "execution_count": 1,
   "metadata": {
    "id": "ndsJMblEHCwp"
   },
   "outputs": [],
   "source": [
    "# import os\n",
    "\n",
    "from IPython import display\n",
    "import matplotlib.pyplot as plt\n",
    "import numpy as np\n",
    "import pandas as pd\n",
    "import random as python_random\n"
   ]
  },
  {
   "cell_type": "code",
   "execution_count": 2,
   "metadata": {
    "colab": {
     "base_uri": "https://localhost:8080/",
     "height": 424
    },
    "id": "EXPIY07OIr-3",
    "outputId": "88a95ee8-eebc-4fea-fcf7-1b215db4afa4"
   },
   "outputs": [
    {
     "data": {
      "text/html": [
       "<div>\n",
       "<style scoped>\n",
       "    .dataframe tbody tr th:only-of-type {\n",
       "        vertical-align: middle;\n",
       "    }\n",
       "\n",
       "    .dataframe tbody tr th {\n",
       "        vertical-align: top;\n",
       "    }\n",
       "\n",
       "    .dataframe thead th {\n",
       "        text-align: right;\n",
       "    }\n",
       "</style>\n",
       "<table border=\"1\" class=\"dataframe\">\n",
       "  <thead>\n",
       "    <tr style=\"text-align: right;\">\n",
       "      <th></th>\n",
       "      <th>file</th>\n",
       "      <th>source</th>\n",
       "      <th>category</th>\n",
       "      <th>weight</th>\n",
       "      <th>fold</th>\n",
       "    </tr>\n",
       "  </thead>\n",
       "  <tbody>\n",
       "    <tr>\n",
       "      <th>0</th>\n",
       "      <td>../data/interim/GoogleAudioSet_unbalanced_list...</td>\n",
       "      <td>Google_city</td>\n",
       "      <td>1</td>\n",
       "      <td>1</td>\n",
       "      <td>0</td>\n",
       "    </tr>\n",
       "    <tr>\n",
       "      <th>1</th>\n",
       "      <td>../data/interim/GoogleAudioSet_unbalanced_list...</td>\n",
       "      <td>Google_city</td>\n",
       "      <td>1</td>\n",
       "      <td>1</td>\n",
       "      <td>8</td>\n",
       "    </tr>\n",
       "    <tr>\n",
       "      <th>2</th>\n",
       "      <td>../data/interim/GoogleAudioSet_unbalanced_list...</td>\n",
       "      <td>Google_nature</td>\n",
       "      <td>0</td>\n",
       "      <td>1</td>\n",
       "      <td>5</td>\n",
       "    </tr>\n",
       "    <tr>\n",
       "      <th>3</th>\n",
       "      <td>../data/interim/GoogleAudioSet_unbalanced_list...</td>\n",
       "      <td>Google_city</td>\n",
       "      <td>1</td>\n",
       "      <td>1</td>\n",
       "      <td>1</td>\n",
       "    </tr>\n",
       "    <tr>\n",
       "      <th>4</th>\n",
       "      <td>../data/interim/GoogleAudioSet_unbalanced_list...</td>\n",
       "      <td>Google_city</td>\n",
       "      <td>1</td>\n",
       "      <td>1</td>\n",
       "      <td>1</td>\n",
       "    </tr>\n",
       "    <tr>\n",
       "      <th>...</th>\n",
       "      <td>...</td>\n",
       "      <td>...</td>\n",
       "      <td>...</td>\n",
       "      <td>...</td>\n",
       "      <td>...</td>\n",
       "    </tr>\n",
       "    <tr>\n",
       "      <th>27329</th>\n",
       "      <td>../data/interim/GoogleAudioSet_unbalanced_list...</td>\n",
       "      <td>Google_city</td>\n",
       "      <td>1</td>\n",
       "      <td>1</td>\n",
       "      <td>5</td>\n",
       "    </tr>\n",
       "    <tr>\n",
       "      <th>27330</th>\n",
       "      <td>../data/interim/GoogleAudioSet_unbalanced_list...</td>\n",
       "      <td>Google_city</td>\n",
       "      <td>1</td>\n",
       "      <td>1</td>\n",
       "      <td>3</td>\n",
       "    </tr>\n",
       "    <tr>\n",
       "      <th>27331</th>\n",
       "      <td>../data/interim/GoogleAudioSet_unbalanced_list...</td>\n",
       "      <td>Google_city</td>\n",
       "      <td>1</td>\n",
       "      <td>1</td>\n",
       "      <td>8</td>\n",
       "    </tr>\n",
       "    <tr>\n",
       "      <th>27332</th>\n",
       "      <td>../data/interim/GoogleAudioSet_unbalanced_list...</td>\n",
       "      <td>Google_city</td>\n",
       "      <td>1</td>\n",
       "      <td>1</td>\n",
       "      <td>8</td>\n",
       "    </tr>\n",
       "    <tr>\n",
       "      <th>27333</th>\n",
       "      <td>../data/interim/GoogleAudioSet_unbalanced_list...</td>\n",
       "      <td>Google_city</td>\n",
       "      <td>1</td>\n",
       "      <td>1</td>\n",
       "      <td>0</td>\n",
       "    </tr>\n",
       "  </tbody>\n",
       "</table>\n",
       "<p>27334 rows × 5 columns</p>\n",
       "</div>"
      ],
      "text/plain": [
       "                                                    file         source  \\\n",
       "0      ../data/interim/GoogleAudioSet_unbalanced_list...    Google_city   \n",
       "1      ../data/interim/GoogleAudioSet_unbalanced_list...    Google_city   \n",
       "2      ../data/interim/GoogleAudioSet_unbalanced_list...  Google_nature   \n",
       "3      ../data/interim/GoogleAudioSet_unbalanced_list...    Google_city   \n",
       "4      ../data/interim/GoogleAudioSet_unbalanced_list...    Google_city   \n",
       "...                                                  ...            ...   \n",
       "27329  ../data/interim/GoogleAudioSet_unbalanced_list...    Google_city   \n",
       "27330  ../data/interim/GoogleAudioSet_unbalanced_list...    Google_city   \n",
       "27331  ../data/interim/GoogleAudioSet_unbalanced_list...    Google_city   \n",
       "27332  ../data/interim/GoogleAudioSet_unbalanced_list...    Google_city   \n",
       "27333  ../data/interim/GoogleAudioSet_unbalanced_list...    Google_city   \n",
       "\n",
       "       category  weight  fold  \n",
       "0             1       1     0  \n",
       "1             1       1     8  \n",
       "2             0       1     5  \n",
       "3             1       1     1  \n",
       "4             1       1     1  \n",
       "...         ...     ...   ...  \n",
       "27329         1       1     5  \n",
       "27330         1       1     3  \n",
       "27331         1       1     8  \n",
       "27332         1       1     8  \n",
       "27333         1       1     0  \n",
       "\n",
       "[27334 rows x 5 columns]"
      ]
     },
     "execution_count": 2,
     "metadata": {},
     "output_type": "execute_result"
    }
   ],
   "source": [
    "df_all = pd.read_csv('../train_val_test_split/train_val_test_GoogleAudioSet.csv', index_col=0)\n",
    "df_all = pd.concat([df_all, df_all], ignore_index=True)\n",
    "df_all"
   ]
  },
  {
   "cell_type": "code",
   "execution_count": 3,
   "metadata": {},
   "outputs": [],
   "source": [
    "embedding_raw_matrix = np.vstack((np.load('../data/processed/20230304/embedding_raw_matrix.npy'), np.load('../data/processed/20230310_dataAugmentation/embedding_raw_matrix.npy')))\n",
    "embedding_bg_matrix = np.vstack((np.load('../data/processed/20230304/embedding_bg_matrix.npy'), np.load('../data/processed/20230310_dataAugmentation/embedding_bg_matrix.npy')))\n",
    "embedding_fg_matrix = np.vstack((np.load('../data/processed/20230304/embedding_fg_matrix.npy'), np.load('../data/processed/20230310_dataAugmentation/embedding_fg_matrix.npy')))"
   ]
  },
  {
   "cell_type": "code",
   "execution_count": 4,
   "metadata": {},
   "outputs": [],
   "source": [
    "vgg_raw_matrix = np.vstack((np.load('../data/processed/20230304/vgg_raw_matrix.npy'), np.load('../data/processed/20230310_dataAugmentation/vgg_raw_matrix.npy')))\n",
    "vgg_bg_matrix = np.vstack((np.load('../data/processed/20230304/vgg_bg_matrix.npy'), np.load('../data/processed/20230310_dataAugmentation/vgg_bg_matrix.npy')))\n",
    "vgg_fg_matrix = np.vstack((np.load('../data/processed/20230304/vgg_fg_matrix.npy'), np.load('../data/processed/20230310_dataAugmentation/vgg_fg_matrix.npy')))"
   ]
  },
  {
   "cell_type": "code",
   "execution_count": 5,
   "metadata": {
    "id": "aeqp9nyiDDNV"
   },
   "outputs": [],
   "source": [
    "mps_raw_matrix = np.vstack((np.load('../data/processed/20230304/mps_raw_matrix.npy'), np.load('../data/processed/20230310_dataAugmentation/mps_raw_matrix.npy')))\n",
    "mps_bg_matrix = np.vstack((np.load('../data/processed/20230304/mps_bg_matrix.npy'), np.load('../data/processed/20230310_dataAugmentation/mps_bg_matrix.npy')))\n",
    "mps_fg_matrix = np.vstack((np.load('../data/processed/20230304/mps_fg_matrix.npy'), np.load('../data/processed/20230310_dataAugmentation/mps_fg_matrix.npy')))"
   ]
  },
  {
   "cell_type": "code",
   "execution_count": 6,
   "metadata": {
    "id": "_8_4uq8YDM3c"
   },
   "outputs": [],
   "source": [
    "df_indices_raw = pd.concat([pd.read_csv('../data/processed/20230304/df_indices_raw.csv', index_col=0),pd.read_csv('../data/processed/20230310_dataAugmentation/df_indices_raw.csv', index_col=0)], ignore_index=True)\n",
    "df_indices_bg = pd.concat([pd.read_csv('../data/processed/20230304/df_indices_bg.csv', index_col=0),pd.read_csv('../data/processed/20230310_dataAugmentation/df_indices_bg.csv', index_col=0)], ignore_index=True)\n",
    "df_indices_fg = pd.concat([pd.read_csv('../data/processed/20230304/df_indices_fg.csv', index_col=0),pd.read_csv('../data/processed/20230310_dataAugmentation/df_indices_fg.csv', index_col=0)], ignore_index=True)"
   ]
  },
  {
   "cell_type": "code",
   "execution_count": 7,
   "metadata": {},
   "outputs": [],
   "source": [
    "panns_clip_raw = np.vstack((np.load('../data/processed/20230304/panns_clip_raw.npy'), np.load('../data/processed/20230310_dataAugmentation/panns_clip_raw.npy')))\n",
    "panns_clip_bg = np.vstack((np.load('../data/processed/20230304/panns_clip_bg.npy'), np.load('../data/processed/20230310_dataAugmentation/panns_clip_bg.npy')))\n",
    "panns_clip_fg = np.vstack((np.load('../data/processed/20230304/panns_clip_fg.npy'), np.load('../data/processed/20230310_dataAugmentation/panns_clip_fg.npy')))\n",
    "panns_embedding_raw = np.vstack((np.load('../data/processed/20230304/panns_embedding_raw.npy'), np.load('../data/processed/20230310_dataAugmentation/panns_embedding_raw.npy')))\n",
    "panns_embedding_bg = np.vstack((np.load('../data/processed/20230304/panns_embedding_bg.npy'), np.load('../data/processed/20230310_dataAugmentation/panns_embedding_bg.npy')))\n",
    "panns_embedding_fg = np.vstack((np.load('../data/processed/20230304/panns_embedding_fg.npy'), np.load('../data/processed/20230310_dataAugmentation/panns_embedding_fg.npy')))"
   ]
  },
  {
   "cell_type": "code",
   "execution_count": 8,
   "metadata": {
    "id": "lcQgL_ezDnEu"
   },
   "outputs": [],
   "source": [
    "index_train = df_all['fold'] < 8\n",
    "index_valid = df_all['fold'] == 8\n",
    "index_test = df_all['fold'] == 9"
   ]
  },
  {
   "cell_type": "markdown",
   "metadata": {
    "id": "KTsb221cFD-8"
   },
   "source": [
    "# PCA dimensional reduction"
   ]
  },
  {
   "cell_type": "code",
   "execution_count": 9,
   "metadata": {
    "id": "TNYQ_dfxE8ih"
   },
   "outputs": [],
   "source": [
    "def get_transformer(n_components):\n",
    "    from sklearn.preprocessing import StandardScaler\n",
    "    from sklearn.pipeline import Pipeline\n",
    "    from sklearn.decomposition import PCA\n",
    "    from sklearn.impute import SimpleImputer\n",
    "    transformer = Pipeline(steps=[\n",
    "        ('imputer', SimpleImputer(missing_values=np.nan, strategy='mean')),\n",
    "        ('PCA', PCA(n_components = n_components, random_state=23)),\n",
    "        ('scaler', StandardScaler())\n",
    "    ])\n",
    "    return transformer"
   ]
  },
  {
   "cell_type": "code",
   "execution_count": 10,
   "metadata": {
    "id": "jdC-unn4FbfA"
   },
   "outputs": [],
   "source": [
    "def data_pca(data, index_train, index_valid, index_test, n_components):\n",
    "    train_data = data[index_train]\n",
    "    valid_data = data[index_valid]\n",
    "    test_data = data[index_test]\n",
    "\n",
    "    transformer = get_transformer(n_components = n_components)\n",
    "    transformer.fit(train_data)\n",
    "    train_data_pca = transformer.transform(train_data)\n",
    "    valid_data_pca = transformer.transform(valid_data)\n",
    "    test_data_pca = transformer.transform(test_data)\n",
    "    return train_data_pca, valid_data_pca, test_data_pca"
   ]
  },
  {
   "cell_type": "code",
   "execution_count": 11,
   "metadata": {
    "id": "w0gwkV-lGXgV"
   },
   "outputs": [],
   "source": [
    "train_mps_raw_pca, valid_mps_raw_pca, test_mps_raw_pca = data_pca(mps_raw_matrix, index_train, index_valid, index_test, n_components=10)\n",
    "train_mps_bg_pca, valid_mps_bg_pca, test_mps_bg_pca = data_pca(mps_bg_matrix, index_train, index_valid, index_test, n_components=10)\n",
    "train_mps_fg_pca, valid_mps_fg_pca, test_mps_fg_pca = data_pca(mps_fg_matrix, index_train, index_valid, index_test, n_components=10)"
   ]
  },
  {
   "cell_type": "code",
   "execution_count": 12,
   "metadata": {
    "id": "T0WjEvlrNBg-"
   },
   "outputs": [],
   "source": [
    "train_indices_raw_pca, valid_indices_raw_pca, test_indices_raw_pca = data_pca(df_indices_raw.replace([np.inf, -np.inf], np.nan), index_train, index_valid, index_test, n_components=20)\n",
    "train_indices_bg_pca, valid_indices_bg_pca, test_indices_bg_pca = data_pca(df_indices_bg.replace([np.inf, -np.inf], np.nan), index_train, index_valid, index_test, n_components=20)\n",
    "train_indices_fg_pca, valid_indices_fg_pca, test_indices_fg_pca = data_pca(df_indices_fg.replace([np.inf, -np.inf], np.nan), index_train, index_valid, index_test, n_components=20)"
   ]
  },
  {
   "cell_type": "code",
   "execution_count": 13,
   "metadata": {},
   "outputs": [],
   "source": [
    "train_embedding_raw_pca, valid_embedding_raw_pca, test_embedding_raw_pca = data_pca(embedding_raw_matrix, index_train, index_valid, index_test, n_components=400)\n",
    "train_embedding_bg_pca, valid_embedding_bg_pca, test_embedding_bg_pca = data_pca(embedding_bg_matrix, index_train, index_valid, index_test, n_components=400)\n",
    "train_embedding_fg_pca, valid_embedding_fg_pca, test_embedding_fg_pca = data_pca(embedding_fg_matrix, index_train, index_valid, index_test, n_components=400)"
   ]
  },
  {
   "cell_type": "code",
   "execution_count": 14,
   "metadata": {},
   "outputs": [],
   "source": [
    "train_vgg_raw_pca, valid_vgg_raw_pca, test_vgg_raw_pca = data_pca(vgg_raw_matrix, index_train, index_valid, index_test, n_components=128)\n",
    "train_vgg_bg_pca, valid_vgg_bg_pca, test_vgg_bg_pca = data_pca(vgg_bg_matrix, index_train, index_valid, index_test, n_components=128)\n",
    "train_vgg_fg_pca, valid_vgg_fg_pca, test_vgg_fg_pca = data_pca(vgg_fg_matrix, index_train, index_valid, index_test, n_components=128)"
   ]
  },
  {
   "cell_type": "code",
   "execution_count": 15,
   "metadata": {},
   "outputs": [],
   "source": [
    "train_panns_clip_raw_pca, valid_panns_clip_raw_pca, test_panns_clip_raw_pca = data_pca(panns_clip_raw, index_train, index_valid, index_test, n_components=180)\n",
    "train_panns_clip_bg_pca, valid_panns_clip_bg_pca, test_panns_clip_bg_pca = data_pca(panns_clip_bg, index_train, index_valid, index_test, n_components=180)\n",
    "train_panns_clip_fg_pca, valid_panns_clip_fg_pca, test_panns_clip_fg_pca = data_pca(panns_clip_fg, index_train, index_valid, index_test, n_components=180)\n",
    "\n",
    "train_panns_embedding_raw_pca, valid_panns_embedding_raw_pca, test_panns_embedding_raw_pca = data_pca(panns_embedding_raw, index_train, index_valid, index_test, n_components=400)\n",
    "train_panns_embedding_bg_pca, valid_panns_embedding_bg_pca, test_panns_embedding_bg_pca = data_pca(panns_embedding_bg, index_train, index_valid, index_test, n_components=400)\n",
    "train_panns_embedding_fg_pca, valid_panns_embedding_fg_pca, test_panns_embedding_fg_pca = data_pca(panns_embedding_fg, index_train, index_valid, index_test, n_components=400)"
   ]
  },
  {
   "cell_type": "code",
   "execution_count": 16,
   "metadata": {},
   "outputs": [],
   "source": [
    "y_train = df_all.loc[index_train,'category']\n",
    "y_valid = df_all.loc[index_valid,'category']\n",
    "y_test = df_all.loc[index_test,'category']"
   ]
  },
  {
   "cell_type": "code",
   "execution_count": 17,
   "metadata": {},
   "outputs": [],
   "source": [
    "import pickle\n",
    "aggregated_data = [train_mps_raw_pca, valid_mps_raw_pca, test_mps_raw_pca,\n",
    "                   train_mps_bg_pca, valid_mps_bg_pca, test_mps_bg_pca,\n",
    "                   train_mps_fg_pca, valid_mps_fg_pca, test_mps_fg_pca,\n",
    "                   train_indices_raw_pca, valid_indices_raw_pca, test_indices_raw_pca,\n",
    "                   train_indices_bg_pca, valid_indices_bg_pca, test_indices_bg_pca,\n",
    "                   train_indices_fg_pca, valid_indices_fg_pca, test_indices_fg_pca,\n",
    "                   train_embedding_raw_pca, valid_embedding_raw_pca, test_embedding_raw_pca,\n",
    "                   train_embedding_bg_pca, valid_embedding_bg_pca, test_embedding_bg_pca,\n",
    "                   train_embedding_fg_pca, valid_embedding_fg_pca, test_embedding_fg_pca,\n",
    "                   train_vgg_raw_pca, valid_vgg_raw_pca, test_vgg_raw_pca,\n",
    "                   train_vgg_bg_pca, valid_vgg_bg_pca, test_vgg_bg_pca,\n",
    "                   train_vgg_fg_pca, valid_vgg_fg_pca, test_vgg_fg_pca,\n",
    "                   train_panns_clip_raw_pca, valid_panns_clip_raw_pca, test_panns_clip_raw_pca,\n",
    "                   train_panns_clip_bg_pca, valid_panns_clip_bg_pca, test_panns_clip_bg_pca,\n",
    "                   train_panns_clip_fg_pca, valid_panns_clip_fg_pca, test_panns_clip_fg_pca,\n",
    "                   train_panns_embedding_raw_pca, valid_panns_embedding_raw_pca, test_panns_embedding_raw_pca,\n",
    "                   train_panns_embedding_bg_pca, valid_panns_embedding_bg_pca, test_panns_embedding_bg_pca,\n",
    "                   train_panns_embedding_fg_pca, valid_panns_embedding_fg_pca, test_panns_embedding_fg_pca,\n",
    "                  y_train, y_valid, y_test]\n",
    "pickle.dump(aggregated_data, open('../data/processed/20230310_dataAugmentation/aggregated_data', 'wb' ) )"
   ]
  },
  {
   "cell_type": "code",
   "execution_count": null,
   "metadata": {},
   "outputs": [],
   "source": []
  }
 ],
 "metadata": {
  "accelerator": "GPU",
  "colab": {
   "machine_shape": "hm",
   "provenance": []
  },
  "gpuClass": "standard",
  "kernelspec": {
   "display_name": "Python 3 (ipykernel)",
   "language": "python",
   "name": "python3"
  },
  "language_info": {
   "codemirror_mode": {
    "name": "ipython",
    "version": 3
   },
   "file_extension": ".py",
   "mimetype": "text/x-python",
   "name": "python",
   "nbconvert_exporter": "python",
   "pygments_lexer": "ipython3",
   "version": "3.8.16"
  }
 },
 "nbformat": 4,
 "nbformat_minor": 1
}
