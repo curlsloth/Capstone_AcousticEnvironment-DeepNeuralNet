{
 "cells": [
  {
   "cell_type": "markdown",
   "id": "82e30df3",
   "metadata": {},
   "source": [
    "# Re-evaluating the labels\n",
    "\n",
    "Despite the large quantity of files available on Google AudioSet, the quality of its labeling is not great. To get a rough idea of the labeling accuracy of our dataset, I randomly sampled 100 files (50 urban/city and 50 rural/nature) and evaluated whether they were correctly labeled."
   ]
  },
  {
   "cell_type": "code",
   "execution_count": 1,
   "id": "36e7ecde",
   "metadata": {},
   "outputs": [],
   "source": [
    "import pandas as pd\n",
    "import numpy as np\n",
    "rural_pd = pd.read_csv('../data/interim/GoogleAudioSet_unbalanced_list/nature_no_music.csv').sample(n = 50, random_state=23, ignore_index=True)\n",
    "urban_pd = pd.read_csv('../data/interim/GoogleAudioSet_unbalanced_list/city_no_music.csv').sample(n = 50, random_state=23, ignore_index=True)"
   ]
  },
  {
   "cell_type": "code",
   "execution_count": 2,
   "id": "e79c4091",
   "metadata": {},
   "outputs": [
    {
     "data": {
      "text/plain": [
       "0     https://www.youtube.com/watch?v=-PZtqerYjQA&t=110\n",
       "1     https://www.youtube.com/watch?v=8erlTkwa8s8&t=190\n",
       "2     https://www.youtube.com/watch?v=P2lmCMWND1U&t=370\n",
       "3      https://www.youtube.com/watch?v=5TsbCSErWpw&t=50\n",
       "4      https://www.youtube.com/watch?v=9aCjBwysKzA&t=19\n",
       "5      https://www.youtube.com/watch?v=CIiY6wC6RDY&t=40\n",
       "6      https://www.youtube.com/watch?v=MOohOlY932s&t=10\n",
       "7      https://www.youtube.com/watch?v=Hqz8-Q498_E&t=10\n",
       "8     https://www.youtube.com/watch?v=1pXlvIpP_d8&t=140\n",
       "9      https://www.youtube.com/watch?v=OmwCMN_DsVU&t=30\n",
       "10     https://www.youtube.com/watch?v=-LB8zfFRTY8&t=30\n",
       "11     https://www.youtube.com/watch?v=GIt3J2-EIIo&t=30\n",
       "12    https://www.youtube.com/watch?v=9QboqDLrogk&t=180\n",
       "13     https://www.youtube.com/watch?v=AIooWHCWQUA&t=20\n",
       "14     https://www.youtube.com/watch?v=O65AFVa65Lo&t=30\n",
       "15     https://www.youtube.com/watch?v=Iv2ZRUjXHmA&t=22\n",
       "16     https://www.youtube.com/watch?v=2zrK-q8ZA-s&t=30\n",
       "17     https://www.youtube.com/watch?v=1BQ8qH4D4ig&t=10\n",
       "18     https://www.youtube.com/watch?v=NkE_g46-VPw&t=30\n",
       "19    https://www.youtube.com/watch?v=KCusH8nq-j8&t=180\n",
       "20    https://www.youtube.com/watch?v=L881h1TJsPk&t=410\n",
       "21     https://www.youtube.com/watch?v=LiaoBZIwYW0&t=30\n",
       "22      https://www.youtube.com/watch?v=23wUAJs5LVY&t=0\n",
       "23    https://www.youtube.com/watch?v=KnPfc67946I&t=190\n",
       "24     https://www.youtube.com/watch?v=0OVUH7etWnc&t=80\n",
       "25      https://www.youtube.com/watch?v=760wid9EOLE&t=0\n",
       "26    https://www.youtube.com/watch?v=BySs2cghGnY&t=270\n",
       "27     https://www.youtube.com/watch?v=5JneC93uR9o&t=30\n",
       "28     https://www.youtube.com/watch?v=Av9sj7LpEX4&t=30\n",
       "29    https://www.youtube.com/watch?v=P7lTgbA0gbY&t=300\n",
       "30    https://www.youtube.com/watch?v=-ho8Za0SWUk&t=260\n",
       "31     https://www.youtube.com/watch?v=A_Zp8D5Q9Lg&t=40\n",
       "32    https://www.youtube.com/watch?v=41VdGai1ETo&t=510\n",
       "33     https://www.youtube.com/watch?v=BgX-KD5u3ig&t=20\n",
       "34    https://www.youtube.com/watch?v=47goI4PYcXA&t=170\n",
       "35     https://www.youtube.com/watch?v=7nw4MEoaDvk&t=50\n",
       "36    https://www.youtube.com/watch?v=5m23YP826gs&t=590\n",
       "37    https://www.youtube.com/watch?v=8SQ5_GaPnaM&t=550\n",
       "38      https://www.youtube.com/watch?v=Kw6VaLLoyx8&t=0\n",
       "39     https://www.youtube.com/watch?v=MSTvvbgs9tU&t=80\n",
       "40     https://www.youtube.com/watch?v=-go31b_rstU&t=30\n",
       "41    https://www.youtube.com/watch?v=8-om_mmW_FM&t=140\n",
       "42     https://www.youtube.com/watch?v=FQEh2G13y38&t=30\n",
       "43     https://www.youtube.com/watch?v=HsHt0o1Hlc4&t=80\n",
       "44    https://www.youtube.com/watch?v=JZfvu7leoW0&t=450\n",
       "45     https://www.youtube.com/watch?v=EZSFPprc6Qo&t=60\n",
       "46     https://www.youtube.com/watch?v=96g75gjdqIE&t=40\n",
       "47     https://www.youtube.com/watch?v=0zoQtBnYF5M&t=20\n",
       "48     https://www.youtube.com/watch?v=7v-r7FTnOko&t=40\n",
       "49    https://www.youtube.com/watch?v=P9PrqItbjhE&t=110\n",
       "Name: urls, dtype: object"
      ]
     },
     "execution_count": 2,
     "metadata": {},
     "output_type": "execute_result"
    }
   ],
   "source": [
    "rural_pd['urls'] = 'https://www.youtube.com/watch?v='+rural_pd['ID']+'&t='+rural_pd['start'].astype(int).astype(str)\n",
    "rural_pd['urls']"
   ]
  },
  {
   "cell_type": "code",
   "execution_count": 3,
   "id": "21ded7ba",
   "metadata": {},
   "outputs": [
    {
     "data": {
      "text/plain": [
       "0.84"
      ]
     },
     "execution_count": 3,
     "metadata": {},
     "output_type": "execute_result"
    }
   ],
   "source": [
    "n = np.nan\n",
    "rural_pd['label_correct'] = [\n",
    "    1, 1, 1, 1, 0, 1, 1, 1, 0, 1, \n",
    "    1, 1, 1, 1, 1, 1, 0, 1, 1, 0, \n",
    "    1, 1, 1, 1, 0, 0, 1, 1, 1, 1, \n",
    "    1, 1, 0, 1, 1, 1, 0, 1, 1, 1, \n",
    "    1, 1, 1, 1, 1, 1, 1, 1, 1, 1\n",
    "]\n",
    "np.nanmean(rural_pd['label_correct'])"
   ]
  },
  {
   "cell_type": "code",
   "execution_count": 4,
   "id": "2c3b2d76",
   "metadata": {},
   "outputs": [
    {
     "data": {
      "text/plain": [
       "0       https://www.youtube.com/watch?v=LX5Zs-58Hic&t=4\n",
       "1      https://www.youtube.com/watch?v=-dOYOA8FGjo&t=80\n",
       "2      https://www.youtube.com/watch?v=2hEy39Y7soc&t=30\n",
       "3     https://www.youtube.com/watch?v=LC5N_WM3e-E&t=250\n",
       "4      https://www.youtube.com/watch?v=06XMUn9DTKc&t=30\n",
       "5      https://www.youtube.com/watch?v=IXZVTjIcPfM&t=30\n",
       "6     https://www.youtube.com/watch?v=Ms-NQjDWTb0&t=110\n",
       "7     https://www.youtube.com/watch?v=F1uZNiCe-iU&t=530\n",
       "8      https://www.youtube.com/watch?v=HhSLoGTlK9k&t=30\n",
       "9     https://www.youtube.com/watch?v=2K3X_NCcm1s&t=170\n",
       "10      https://www.youtube.com/watch?v=8YeiopqoOs0&t=0\n",
       "11     https://www.youtube.com/watch?v=AWxQ51rs_yk&t=30\n",
       "12     https://www.youtube.com/watch?v=Lx9UFYGcAJA&t=30\n",
       "13     https://www.youtube.com/watch?v=BUMr35cAuaA&t=30\n",
       "14     https://www.youtube.com/watch?v=9tBXN4ocVUY&t=40\n",
       "15      https://www.youtube.com/watch?v=38JhniwZwKQ&t=7\n",
       "16    https://www.youtube.com/watch?v=KvIlnX8MnJM&t=450\n",
       "17     https://www.youtube.com/watch?v=O6vyB5SAc6w&t=11\n",
       "18    https://www.youtube.com/watch?v=K4PsmiVSRJk&t=580\n",
       "19     https://www.youtube.com/watch?v=H-B5T1Xrrc8&t=30\n",
       "20     https://www.youtube.com/watch?v=O5v_Ab7BTMM&t=50\n",
       "21     https://www.youtube.com/watch?v=Krf_3kKwfCM&t=10\n",
       "22     https://www.youtube.com/watch?v=5lJTMPIR82w&t=60\n",
       "23     https://www.youtube.com/watch?v=B8qfBam8-b0&t=20\n",
       "24    https://www.youtube.com/watch?v=OF7wKSv-LGQ&t=210\n",
       "25    https://www.youtube.com/watch?v=6cNBkHAgqvk&t=380\n",
       "26    https://www.youtube.com/watch?v=-bG9fJ7aPNY&t=140\n",
       "27     https://www.youtube.com/watch?v=KVvGHOsqd9w&t=30\n",
       "28     https://www.youtube.com/watch?v=61IQ-b89sI4&t=30\n",
       "29     https://www.youtube.com/watch?v=IgLwt3jSXBY&t=10\n",
       "30    https://www.youtube.com/watch?v=Hbv-oHNKYok&t=220\n",
       "31     https://www.youtube.com/watch?v=LeiZZ-X4gFg&t=30\n",
       "32     https://www.youtube.com/watch?v=6-vaT-rGn-M&t=30\n",
       "33    https://www.youtube.com/watch?v=CsSJ203WRr0&t=200\n",
       "34     https://www.youtube.com/watch?v=A-jeYaBsbQ8&t=20\n",
       "35     https://www.youtube.com/watch?v=Few3BpBhbwQ&t=90\n",
       "36      https://www.youtube.com/watch?v=OGt9ZaGE5I8&t=2\n",
       "37     https://www.youtube.com/watch?v=88I6tgiVqzY&t=20\n",
       "38     https://www.youtube.com/watch?v=OlnxJT-cfaA&t=30\n",
       "39     https://www.youtube.com/watch?v=I6Zv-iuAD0k&t=30\n",
       "40     https://www.youtube.com/watch?v=CHcsT6yStgU&t=30\n",
       "41     https://www.youtube.com/watch?v=Euct1HMHhjw&t=30\n",
       "42     https://www.youtube.com/watch?v=04Ta9pc5m3s&t=30\n",
       "43     https://www.youtube.com/watch?v=05luqG1pwUo&t=10\n",
       "44     https://www.youtube.com/watch?v=Ha_STx0ZRB4&t=10\n",
       "45    https://www.youtube.com/watch?v=K4VHIo28k4c&t=200\n",
       "46     https://www.youtube.com/watch?v=7ZpkoNRtce0&t=70\n",
       "47     https://www.youtube.com/watch?v=KE5COAoaLjc&t=60\n",
       "48     https://www.youtube.com/watch?v=KMlQsGaWhhU&t=30\n",
       "49     https://www.youtube.com/watch?v=O1NjQUSUkPU&t=30\n",
       "Name: urls, dtype: object"
      ]
     },
     "execution_count": 4,
     "metadata": {},
     "output_type": "execute_result"
    }
   ],
   "source": [
    "urban_pd['urls'] = 'https://www.youtube.com/watch?v='+urban_pd['ID']+'&t='+urban_pd['start'].astype(int).astype(str)\n",
    "urban_pd['urls']"
   ]
  },
  {
   "cell_type": "code",
   "execution_count": 5,
   "id": "eb3f1ede",
   "metadata": {},
   "outputs": [
    {
     "data": {
      "text/plain": [
       "0.64"
      ]
     },
     "execution_count": 5,
     "metadata": {},
     "output_type": "execute_result"
    }
   ],
   "source": [
    "n = np.nan\n",
    "urban_pd['label_correct'] = [\n",
    "    1, 1, 1, 0, 1, 0, 1, 0, 1, 1, \n",
    "    1, 1, 1, 0, 1, 1, 0, 1, 1, 0, \n",
    "    1, 1, 1, 1, 1, 0, 0, 1, 1, 0,\n",
    "    0, 1, 1, 0, 1, 1, 1, 0, 0, 0, \n",
    "    1, 1, 1, 1, 0, 0, 1, 0, 1, 0\n",
    "]\n",
    "    \n",
    "np.nanmean(urban_pd['label_correct'])"
   ]
  },
  {
   "cell_type": "markdown",
   "id": "2bc2a99d",
   "metadata": {},
   "source": [
    "**It turns out that the labeling accuracy was roughly between 64-84%. Based on this, I assume that the overall maximum classification accuracy of the current dataset is 80%.**"
   ]
  },
  {
   "cell_type": "code",
   "execution_count": null,
   "id": "14d8eb61",
   "metadata": {},
   "outputs": [],
   "source": []
  }
 ],
 "metadata": {
  "kernelspec": {
   "display_name": "Python 3 (ipykernel)",
   "language": "python",
   "name": "python3"
  },
  "language_info": {
   "codemirror_mode": {
    "name": "ipython",
    "version": 3
   },
   "file_extension": ".py",
   "mimetype": "text/x-python",
   "name": "python",
   "nbconvert_exporter": "python",
   "pygments_lexer": "ipython3",
   "version": "3.8.16"
  }
 },
 "nbformat": 4,
 "nbformat_minor": 5
}
